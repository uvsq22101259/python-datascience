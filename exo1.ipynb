{
  "cells": [
    {
      "cell_type": "markdown",
      "id": "09b396fd",
      "metadata": {
        "id": "09b396fd"
      },
      "source": [
        "![openclassrooms](https://s3.eu-west-1.amazonaws.com/course.oc-static.com/courses/6204541/1+HnqdJ-5ofxiPP9HIxdNdpw.jpeg)\n",
        "\n",
        "# Créez vos premiers arrays avec Numpy - Enoncé\n",
        "\n",
        "Tout au long de ce cours, nous allons nous mettre dans la peau d’une personne travaillant  dans un service data au sein d'une banque. Plus précisément, vous travaillez pour la filière gérant les différents prêts. L’objectif sera d’utiliser les connaissances acquises sur les librairies Python pour aider l’agence dans différentes tâches.\n",
        "\n",
        "Pour cette première tâche, nous avons à notre disposition les revenus de 10 clients de notre banque. Vous aurez à utiliser les différentes manipulations présentées dans ce chapitre pour sélectionner certains revenus selon une condition spécifique et effectuer diverses opérations."
      ]
    },
    {
      "cell_type": "markdown",
      "id": "7f69cab4",
      "metadata": {
        "id": "7f69cab4"
      },
      "source": [
        "* version 0.0.3\n",
        "* last update 2022-08-01\n",
        "* author Alexandre Gazagnes"
      ]
    },
    {
      "cell_type": "markdown",
      "id": "d51f1fe8",
      "metadata": {
        "id": "d51f1fe8"
      },
      "source": [
        "Importons numpy : "
      ]
    },
    {
      "cell_type": "code",
      "execution_count": 2,
      "id": "e7a3ce8c",
      "metadata": {
        "id": "e7a3ce8c"
      },
      "outputs": [],
      "source": [
        "import numpy as np "
      ]
    },
    {
      "cell_type": "markdown",
      "id": "84b399c1",
      "metadata": {
        "id": "84b399c1"
      },
      "source": [
        "Considérons les revenus mensuels suivants :"
      ]
    },
    {
      "cell_type": "code",
      "execution_count": 3,
      "id": "10ad03dc",
      "metadata": {
        "id": "10ad03dc"
      },
      "outputs": [],
      "source": [
        "liste = [1800, 1500, 2200, 3000, 2172, 5000, 1400, 1200, 1100, 1300]"
      ]
    },
    {
      "cell_type": "markdown",
      "id": "b2dc62f8",
      "metadata": {
        "id": "b2dc62f8"
      },
      "source": [
        "A partir de ces revenus, créez un array que vous nommerez `revenus` :"
      ]
    },
    {
      "cell_type": "code",
      "execution_count": 4,
      "id": "cb05dcc0",
      "metadata": {
        "id": "cb05dcc0"
      },
      "outputs": [
        {
          "data": {
            "text/plain": [
              "array([1800, 1500, 2200, 3000, 2172, 5000, 1400, 1200, 1100, 1300])"
            ]
          },
          "execution_count": 4,
          "metadata": {},
          "output_type": "execute_result"
        }
      ],
      "source": [
        "revenus = np.array(liste)\n",
        "revenus"
      ]
    },
    {
      "cell_type": "markdown",
      "id": "0ec4fd80",
      "metadata": {
        "id": "0ec4fd80"
      },
      "source": [
        "Maintenant, créez un nouvel array `haut_revenus` dans lequel vous sélectionnerez l'ensemble des revenus supérieurs ou égal à 3000€ :"
      ]
    },
    {
      "cell_type": "code",
      "execution_count": 5,
      "id": "0e66fdc0",
      "metadata": {
        "id": "0e66fdc0"
      },
      "outputs": [
        {
          "data": {
            "text/plain": [
              "array([3000, 5000])"
            ]
          },
          "execution_count": 5,
          "metadata": {},
          "output_type": "execute_result"
        }
      ],
      "source": [
        "haut_revenus = revenus[revenus >= 3000]\n",
        "haut_revenus"
      ]
    },
    {
      "cell_type": "markdown",
      "id": "6f07ebe0",
      "metadata": {
        "id": "6f07ebe0"
      },
      "source": [
        "Il est à présent temps de calculer quelques indicateurs :\n",
        "- calculez dans un premier temps la somme des revenus **annuelle**. Pour rappel, les revenus listés ci dessus sont mensuels.\n",
        "- calculez ensuite la moyenne des revenus des 10 clients"
      ]
    },
    {
      "cell_type": "code",
      "execution_count": 8,
      "id": "fcb0c22e",
      "metadata": {
        "id": "fcb0c22e"
      },
      "outputs": [
        {
          "data": {
            "text/plain": [
              "248064"
            ]
          },
          "execution_count": 8,
          "metadata": {},
          "output_type": "execute_result"
        }
      ],
      "source": [
        "somme = (revenus*12).sum()\n",
        "somme"
      ]
    },
    {
      "cell_type": "code",
      "execution_count": 12,
      "id": "45513d7f",
      "metadata": {
        "id": "45513d7f"
      },
      "outputs": [
        {
          "data": {
            "text/plain": [
              "2087.2"
            ]
          },
          "execution_count": 12,
          "metadata": {},
          "output_type": "execute_result"
        }
      ],
      "source": [
        "moyenne = (revenus).mean()\n",
        "moyenne"
      ]
    },
    {
      "cell_type": "markdown",
      "id": "1e9d7bba",
      "metadata": {
        "id": "1e9d7bba"
      },
      "source": [
        "Un de nos clients (dont les revenus mensuels s'élevaient jusque là à 1400€) vient de nous annoncer qu'il venait d'obtenir une promotion. Grâce à cette dernière, il a gagné 200€ sur son salaire mensuel. Effectuez cette modification au sein de votre array revenus."
      ]
    },
    {
      "cell_type": "code",
      "execution_count": 11,
      "id": "f4eb6a0b",
      "metadata": {
        "id": "f4eb6a0b"
      },
      "outputs": [
        {
          "data": {
            "text/plain": [
              "array([1800, 1500, 2200, 3000, 2172, 5000, 1600, 1200, 1100, 1300])"
            ]
          },
          "execution_count": 11,
          "metadata": {},
          "output_type": "execute_result"
        }
      ],
      "source": [
        "revenus[revenus == 1400] = 1600\n",
        "revenus"
      ]
    },
    {
      "cell_type": "markdown",
      "id": "3be67c7c",
      "metadata": {
        "id": "3be67c7c"
      },
      "source": [
        "Félicitation pour être arrivé au bout !\n",
        "\n",
        "Si vous avez rencontré certains problèmes : aucune inquiétude :) Vous trouverez la correction dans le cours!"
      ]
    },
    {
      "cell_type": "code",
      "execution_count": null,
      "id": "936474f0",
      "metadata": {
        "id": "936474f0"
      },
      "outputs": [],
      "source": []
    }
  ],
  "metadata": {
    "colab": {
      "provenance": []
    },
    "kernelspec": {
      "display_name": "l1-python",
      "language": "python",
      "name": "python3"
    },
    "language_info": {
      "codemirror_mode": {
        "name": "ipython",
        "version": 3
      },
      "file_extension": ".py",
      "mimetype": "text/x-python",
      "name": "python",
      "nbconvert_exporter": "python",
      "pygments_lexer": "ipython3",
      "version": "3.9.7 (default, Sep 16 2021, 08:50:36) \n[Clang 10.0.0 ]"
    },
    "vscode": {
      "interpreter": {
        "hash": "77484ce416118502741a8d3f016440e56baf463ce99ead0d2989916382f7c35f"
      }
    }
  },
  "nbformat": 4,
  "nbformat_minor": 5
}
